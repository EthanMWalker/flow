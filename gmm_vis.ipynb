{
    "cells": [
        {
            "cell_type": "code",
            "execution_count": 1,
            "source": [
                "import numpy as np\n",
                "from sklearn.mixture import GaussianMixture\n",
                "\n",
                "from sklearn import datasets\n",
                "\n",
                "import torch\n",
                "\n",
                "import pickle\n",
                "import numpy as np\n",
                "import matplotlib.pyplot as plt"
            ],
            "outputs": [],
            "metadata": {}
        },
        {
            "cell_type": "code",
            "execution_count": null,
            "source": [
                "def make_gmm(n_comps, n_dims):\n",
                "  section_size = n_dims // n_comps\n",
                "  means = np.zeros((n_comps, n_dims))\n",
                "  for i in range(n_comps):\n",
                "    means[i][i*section_size:(i+1)*section_size] = 1\n",
                "  data = np.zeros((10000,n_dims))\n",
                "  for i in range(10000):\n",
                "    data[i] = means[i%n_comps] + np.random.randn(n_dims)*.3\n",
                "  gmm = GaussianMixture(n_comps)\n",
                "\n",
                "  return gmm.fit(data)\n",
                "# gmm = make_gmm(3,3)\n",
                "# print(f'{np.round(gmm.means_,2)}')\n",
                "# print(f'{np.round(gmm.weights_,2)}')\n",
                "# print(f'{np.round(gmm.covariances_,2)}')"
            ],
            "outputs": [],
            "metadata": {}
        },
        {
            "cell_type": "code",
            "execution_count": null,
            "source": [
                "# data = datasets.load_digits()['data']\n",
                "\n",
                "# gmm = GaussianMixture(10, 'full', max_iter=50000)\n",
                "\n",
                "# gmm = gmm.fit(data)\n",
                "\n",
                "# samples = gmm.sample(10)\n"
            ],
            "outputs": [],
            "metadata": {}
        },
        {
            "cell_type": "code",
            "execution_count": null,
            "source": [
                "# samples[0][0].shape\n",
                "# for i in range(10):\n",
                "#   plt.imshow(samples[0][i].reshape((8,8)), cmap='gray')\n",
                "#   plt.title(samples[1][i])\n",
                "#   plt.show()\n"
            ],
            "outputs": [],
            "metadata": {}
        },
        {
            "cell_type": "code",
            "execution_count": null,
            "source": [
                "# for i in range(10):\n",
                "#   digit = gmm.means_[i]\n",
                "#   plt.imshow(digit.reshape((8,8)), cmap='gray')\n",
                "#   plt.show()"
            ],
            "outputs": [],
            "metadata": {}
        },
        {
            "cell_type": "code",
            "execution_count": null,
            "source": [
                "for size in [8,16,32,64]:\n",
                "    for lr in ['1e-06', '1e-05', '0.0001']:\n",
                "        with open(f'chkpt/mnist_gmm_rand_samples_{size}_{lr}.pickle','rb') as in_file:\n",
                "            samples = pickle.load(in_file)['sample']\n",
                "        for sample in samples[:3]:\n",
                "            plt.imshow(sample[0], cmap='gray')\n",
                "            plt.title(f'{size}_{lr}')\n",
                "            plt.show()"
            ],
            "outputs": [],
            "metadata": {}
        },
        {
            "cell_type": "code",
            "execution_count": null,
            "source": [
                "for size in [8,16,32,64]:\n",
                "    for lr in ['1e-06', '1e-05', '0.0001']:\n",
                "        with open(f'chkpt/mnist_gmm_rand_samples_{size}_{lr}.pickle','rb') as in_file:\n",
                "            losses = np.array(pickle.load(in_file)['losses'])\n",
                "        plt.plot(losses)\n",
                "        plt.title(f'{size}_{lr}')\n",
                "        plt.show()"
            ],
            "outputs": [],
            "metadata": {}
        },
        {
            "cell_type": "code",
            "execution_count": 2,
            "source": [
                "from acflow import RealNVP\n",
                "device = torch.device('cuda:0' if torch.cuda.is_available() else 'cpu')\n",
                "\n",
                "model = RealNVP(\n",
                "        1, 5, 64, 10, (1,28,28), device, 10\n",
                "      ).to(device)\n",
                "  \n",
                "# model.load_state_dict(torch.load('chkpt/mnist_gmm_rand_64_1e-06.tar')['model_state_dict'])\n",
                "# sum(p.numel() for p in model.parameters())"
            ],
            "outputs": [],
            "metadata": {}
        },
        {
            "cell_type": "code",
            "execution_count": 3,
            "source": [
                "def get_mnist(batch_size):\n",
                "  transform = transforms.Compose(\n",
                "    [\n",
                "      transforms.ToTensor(),\n",
                "      transforms.Normalize((0.1307,), (0.30811,))\n",
                "    ]\n",
                "  )\n",
                "\n",
                "  train_set = tv.datasets.MNIST(\n",
                "    '../data/', train=True, download=True, transform=transform\n",
                "  )\n",
                "  test_set = tv.datasets.MNIST(\n",
                "    '../data/', train=False, download=True, transform=transform\n",
                "  )\n",
                "\n",
                "  train_loader = torch.utils.data.DataLoader(\n",
                "    train_set, batch_size\n",
                "  )\n",
                "  test_loader = torch.utils.data.DataLoader(\n",
                "    test_set, batch_size\n",
                "  )\n",
                "\n",
                "  return train_loader, test_loader"
            ],
            "outputs": [
                {
                    "output_type": "execute_result",
                    "data": {
                        "text/plain": [
                            "Parameter containing:\n",
                            "tensor([[0.5173, 0.8280, 0.3617,  ..., 0.4114, 0.9068, 0.2892],\n",
                            "        [0.3828, 0.1425, 0.9367,  ..., 0.0634, 0.4019, 0.1033],\n",
                            "        [0.4133, 0.1987, 0.6487,  ..., 0.2283, 0.6469, 0.6450],\n",
                            "        ...,\n",
                            "        [0.6439, 0.3167, 0.7326,  ..., 0.1028, 0.4715, 0.1172],\n",
                            "        [0.7797, 0.0696, 0.5914,  ..., 0.7257, 0.3238, 0.4277],\n",
                            "        [0.8165, 0.5931, 0.3967,  ..., 0.2942, 0.0739, 0.5887]],\n",
                            "       device='cuda:0', requires_grad=True)"
                        ]
                    },
                    "metadata": {},
                    "execution_count": 3
                }
            ],
            "metadata": {}
        },
        {
            "cell_type": "code",
            "execution_count": null,
            "source": [
                "model.covs"
            ],
            "outputs": [],
            "metadata": {}
        },
        {
            "cell_type": "code",
            "execution_count": null,
            "source": [],
            "outputs": [],
            "metadata": {}
        }
    ],
    "metadata": {
        "orig_nbformat": 4,
        "language_info": {
            "name": "python",
            "version": "3.8.10",
            "mimetype": "text/x-python",
            "codemirror_mode": {
                "name": "ipython",
                "version": 3
            },
            "pygments_lexer": "ipython3",
            "nbconvert_exporter": "python",
            "file_extension": ".py"
        },
        "kernelspec": {
            "name": "python3",
            "display_name": "Python 3.8.10 64-bit"
        },
        "interpreter": {
            "hash": "916dbcbb3f70747c44a77c7bcd40155683ae19c65e1c03b4aa3499c5328201f1"
        }
    },
    "nbformat": 4,
    "nbformat_minor": 2
}